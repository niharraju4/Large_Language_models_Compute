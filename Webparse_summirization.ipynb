{
 "cells": [
  {
   "cell_type": "code",
   "execution_count": 4,
   "metadata": {},
   "outputs": [],
   "source": [
    "import os\n",
    "import requests\n",
    "from dotenv import load_dotenv\n",
    "from bs4 import BeautifulSoup\n",
    "from IPython.display import Markdown, display\n",
    "from openai import OpenAI\n"
   ]
  },
  {
   "cell_type": "code",
   "execution_count": 5,
   "metadata": {},
   "outputs": [
    {
     "name": "stdout",
     "output_type": "stream",
     "text": [
      "API key found and looks good so far!\n"
     ]
    }
   ],
   "source": [
    "# Load environment variables in a file called .env\n",
    "\n",
    "load_dotenv()\n",
    "api_key = os.getenv('OPENAI_API_KEY')\n",
    "\n",
    "# Check the key\n",
    "\n",
    "if not api_key:\n",
    "    print(\"No API key was found - please head over to the troubleshooting notebook in this folder to identify & fix!\")\n",
    "elif not api_key.startswith(\"sk-proj-\"):\n",
    "    print(\"An API key was found, but it doesn't start sk-proj-; please check you're using the right key - see troubleshooting notebook\")\n",
    "elif api_key.strip() != api_key:\n",
    "    print(\"An API key was found, but it looks like it might have space or tab characters at the start or end - please remove them - see troubleshooting notebook\")\n",
    "else:\n",
    "    print(\"API key found and looks good so far!\")"
   ]
  },
  {
   "cell_type": "code",
   "execution_count": 6,
   "metadata": {},
   "outputs": [],
   "source": [
    "openai = OpenAI()"
   ]
  },
  {
   "cell_type": "code",
   "execution_count": 7,
   "metadata": {},
   "outputs": [],
   "source": [
    "class Website:\n",
    "# A Utility class to represent a website that we have scraped\n",
    "    def __init__(self, url):\n",
    "        \"\"\"\n",
    "        Create this Website object from the given url using the BeautifulSoup library\n",
    "        \"\"\"\n",
    "        self.url = url\n",
    "        response = requests.get(url)\n",
    "        soup = BeautifulSoup(response.content, 'html.parser')\n",
    "        self.title = soup.title.string if soup.title else \"No title found\"\n",
    "        for irrelevant in soup.body([\"script\", \"style\", \"img\", \"input\"]):\n",
    "            irrelevant.decompose()\n",
    "        self.text = soup.body.get_text(separator=\"\\n\", strip=True)"
   ]
  },
  {
   "cell_type": "code",
   "execution_count": 8,
   "metadata": {},
   "outputs": [
    {
     "name": "stdout",
     "output_type": "stream",
     "text": [
      "Intel's fastest gaming chip hits all-time low for Cyber Monday — Core i9-14900K drops to $413 | Tom's Hardware\n",
      "Skip to main content\n",
      "Open menu\n",
      "Close menu\n",
      "Tom's Hardware\n",
      "Tom's Hardware\n",
      "Search\n",
      "Search Tom's Hardware\n",
      "RSS\n",
      "US Edition\n",
      "UK\n",
      "US\n",
      "Australia\n",
      "Canada\n",
      "Best Picks\n",
      "Raspberry Pi\n",
      "CPUs\n",
      "GPUs\n",
      "3D Printers\n",
      "News\n",
      "Coupons\n",
      "More\n",
      "Newsletter\n",
      "Reviews\n",
      "PC Components\n",
      "Motherboards\n",
      "SSDs\n",
      "PC Building\n",
      "Monitors\n",
      "Laptops\n",
      "Gaming\n",
      "Cooling\n",
      "RAM\n",
      "Power Supplies\n",
      "Cases\n",
      "3D Printers\n",
      "Desktops\n",
      "Overclocking\n",
      "Peripherals\n",
      "About Us\n",
      "Forums\n",
      "Trending\n",
      "Black Friday SSD Deals Live\n",
      "15 under-$50 gadgets\n",
      "Black Friday Monitor Deals Live\n",
      "Best Black Friday Tech Deals\n",
      "Core Ultra 9 285K\n",
      "PC Components\n",
      "CPUs\n",
      "Intel's fastest gaming chip hits all-time low for Cyber Monday — Core i9-14900K drops to $413\n",
      "Deals\n",
      "By\n",
      "Roshan Ashraf Shaikh\n",
      "published\n",
      "30 November 2024\n",
      "Intel's flagship Raptor Lake Refresh CPU drops to a very attractive price.\n",
      "Comments\n",
      "(1)\n",
      "When you purchase through links on our site, we may earn an affiliate commission.\n",
      "Here’s how it works\n",
      ".\n",
      "(Image credit: Intel)\n",
      "If you want a deal on Intel's 14th Generation Raptor Lake Refresh CPU, Amazon sells the Core i9-14900K for\n",
      "$413.39\n",
      ". Like all deals and coupons, it is dependent on stock while it lasts or the time before the deal expires.\n",
      "The\n",
      "Core i9-14900K\n",
      "is a 24-core, 32-thread CPU with eight P-cores and 16 E-cores with a P-Core base that can clock up to 6 GHz and E-Cores clocking up to 4.4 GHz. These Raptor Lake Refresh chips are on the same LGA1700 socket, so they're drop-in compatible with LGA1700 motherboards if you're upgrading from a slower CPU.\n",
      "Intel Core i9-14900K\n",
      ":\n",
      "now $436 at Amazon\n",
      "(was $619)\n",
      "You can now grab Intel's flagship Raptor Lake refresh for a slightly lower price, as Amazon has included a $25 discount, making it somewhat attainable.\n",
      "View Deal\n",
      "The main advantage the Core i9-14900K has over the KF variant is the on-chip graphics. Though many wouldn't need them, it is best to have on-chip graphics for diagnostic purposes if you don't have a spare discrete graphics card, just in case. But if you still prefer the\n",
      "Core i9-14900KF\n",
      ", you are getting a $40 coupon, which will shave off the $436 price tag to $396.\n",
      "Image\n",
      "1\n",
      "of\n",
      "3\n",
      "(Image credit: Tom's Hardware)\n",
      "(Image credit: Tom's Hardware)\n",
      "(Image credit: Tom's Hardware)\n",
      "You can see how this chip ranks with our in-depth testing in our\n",
      "CPU benchmarks\n",
      "hierarchy, and excerpt of which you can see above. This strong performance is also why this chip ranks on our list of the\n",
      "Best CPUs for Gaming\n",
      ".\n",
      "We did mention a\n",
      "good deal\n",
      "on the Core i9-13900K for a cent under $400. However, the Core i9-14900K pricing is not so far away, thanks to the discount coupon. Raptor Lake Refresh has previously gained a bad reputation due to a\n",
      "voltage issue\n",
      "affecting the CPU's instability. However, Intel has since launched\n",
      "microcode updates\n",
      "to remedy the problem, so make sure your motherboard is running the latest firmware before plugging it into the Core i9-14900K.\n",
      "We are working hard to find the best deals for you this Black Friday. If you're looking for other products, check out our\n",
      "Black Friday Computer Hardware Deals Live blog\n",
      "for a range of products, or dive deeper into our specialized\n",
      "SSD and Storage Deals Live blog\n",
      ",\n",
      "Monitor Deals Live\n",
      ",\n",
      "Graphics Card Deals\n",
      ", or\n",
      "CPU Deals\n",
      "pages.\n",
      "Stay On the Cutting Edge: Get the Tom's Hardware Newsletter\n",
      "Get Tom's Hardware's best news and in-depth reviews, straight to your inbox.\n",
      "Contact me with news and offers from other Future brands\n",
      "Receive email from us on behalf of our trusted partners or sponsors\n",
      "By submitting your information you agree to the\n",
      "Terms & Conditions\n",
      "and\n",
      "Privacy Policy\n",
      "and are aged 16 or over.\n",
      "TOPICS\n",
      "Black Friday\n",
      "See all comments (1)\n",
      "Roshan Ashraf Shaikh\n",
      "Social Links Navigation\n",
      "Contributing Writer\n",
      "Roshan Ashraf Shaikh has been in the Indian PC hardware community since the early 2000s and has been building PCs, contributing to many Indian tech forums, & blogs. He operated Hardware BBQ for 11 years and wrote news for eTeknix & TweakTown before joining Tom's Hardware team. Besides tech, he is interested in fighting games, movies, anime, and mechanical watches.\n",
      "More about cpus\n",
      "Intel Core 7 240H shows similar performance to Core i7-13620H on Geekbench — Core 7 240H could be a rewarmed Core i7-13620H\n",
      "AMD Ryzen 5 7600X now 37% off for Black Friday — great performer for just $187\n",
      "Latest\n",
      "Intel Arc B570 Battlemage GPU listed at overseas wholesaler ahead of launch — B570 packs 10GB of GDDR6 memory and a 2.6 GHz maximum boost clock\n",
      "See more latest\n",
      "►\n",
      "1 Comment\n",
      "Comment from the forums\n",
      "YSCCC\n",
      "As a 14900k user... are you sure it at this point of time it is still attractive?????\n",
      "Reply\n",
      "View All 1 Comment\n",
      "Most Popular\n",
      "The Best Black Friday GPU deals for 1080p, 1440p, and 4K gaming — prices start at $229\n",
      "The best 2TB SSDs deals available this Black Friday start at $92\n",
      "Black Friday 4TB SSD deals start at $0.05 per GB, include speedy PCIe 4 and PCIe 5 drives\n",
      "Dell’s incredible 32-inch 2K curved gaming monitor is selling for just $199\n",
      "Prusa Black Friday deals include some of our favorite 3D printers\n",
      "Get a Copilot+ 2-in-1 at an all-time low price — Microsoft Surface Pro 2-in-1 on sale for $999\n",
      "The Dell Alienware m18 R2 with the RTX 4090 and i9-14900HX can be yours for $2,999 — save $1,000 in Black Friday deal\n",
      "Nvidia RTX 4060 drops prices to all-time low — Gigabyte Gaming OC RTX 4060 8G gets 11% Black Friday discount on Amazon\n",
      "A smart Black Friday deal on this Fnirsi smart soldering iron\n",
      "My favorite laptop, the ThinkPad X1 Carbon, now starts at $999 ($1600 for 64GB)\n",
      "Nvidia RTX 3060 12GB hits all-time low on Amazon: Gigabyte Gaming OC RTX 3060 12GB is a Black Friday special at 18% off\n",
      "Tom's Hardware is part of Future US Inc, an international media group and leading digital publisher.\n",
      "Visit our corporate site\n",
      ".\n",
      "Terms and conditions\n",
      "Contact Future's experts\n",
      "Privacy policy\n",
      "Cookies policy\n",
      "Accessibility Statement\n",
      "Advertise with us\n",
      "About us\n",
      "Coupons\n",
      "Careers\n",
      "©\n",
      "Future US, Inc. Full 7th Floor, 130 West 42nd Street,\n",
      "New York,\n",
      "NY 10036.\n"
     ]
    }
   ],
   "source": [
    "ed = Website(\"https://www.tomshardware.com/pc-components/cpus/intels-fastest-gaming-chip-hits-all-time-low-for-black-friday-core-i9-14900k-drops-to-usd413\")\n",
    "print(ed.title)\n",
    "print(ed.text)"
   ]
  },
  {
   "cell_type": "markdown",
   "metadata": {},
   "source": [
    "Types of prompts\n",
    "\n",
    "You may know this already - but if not, you will get very familiar with it!\n",
    "\n",
    "Models like GPT4o have been trained to receive instructions in a particular way.\n",
    "\n",
    "They expect to receive:\n",
    "\n",
    "A system prompt that tells them what task they are performing and what tone they should use\n",
    "\n",
    "A user prompt -- the conversation starter that they should reply to"
   ]
  },
  {
   "cell_type": "code",
   "execution_count": 9,
   "metadata": {},
   "outputs": [],
   "source": [
    "system_prompt = \"You are an assistant that analyzes the contents of a website \\\n",
    "and provides a short summary, ignoring text that might be navigation related. \\\n",
    "Respond in markdown.\""
   ]
  },
  {
   "cell_type": "code",
   "execution_count": 10,
   "metadata": {},
   "outputs": [],
   "source": [
    "def user_prompt_for(website):\n",
    "    user_prompt = f\"You are looking at a website titled {website.title}\"\n",
    "    user_prompt += \"\\nThe contents of this website is as follows; \\\n",
    "please provide a short summary of this website in markdown. \\\n",
    "If it includes news or announcements, then summarize these too.\\n\\n\"\n",
    "    user_prompt += website.text\n",
    "    return user_prompt"
   ]
  },
  {
   "cell_type": "code",
   "execution_count": 11,
   "metadata": {},
   "outputs": [
    {
     "name": "stdout",
     "output_type": "stream",
     "text": [
      "You are looking at a website titled Intel's fastest gaming chip hits all-time low for Cyber Monday — Core i9-14900K drops to $413 | Tom's Hardware\n",
      "The contents of this website is as follows; please provide a short summary of this website in markdown. If it includes news or announcements, then summarize these too.\n",
      "\n",
      "Skip to main content\n",
      "Open menu\n",
      "Close menu\n",
      "Tom's Hardware\n",
      "Tom's Hardware\n",
      "Search\n",
      "Search Tom's Hardware\n",
      "RSS\n",
      "US Edition\n",
      "UK\n",
      "US\n",
      "Australia\n",
      "Canada\n",
      "Best Picks\n",
      "Raspberry Pi\n",
      "CPUs\n",
      "GPUs\n",
      "3D Printers\n",
      "News\n",
      "Coupons\n",
      "More\n",
      "Newsletter\n",
      "Reviews\n",
      "PC Components\n",
      "Motherboards\n",
      "SSDs\n",
      "PC Building\n",
      "Monitors\n",
      "Laptops\n",
      "Gaming\n",
      "Cooling\n",
      "RAM\n",
      "Power Supplies\n",
      "Cases\n",
      "3D Printers\n",
      "Desktops\n",
      "Overclocking\n",
      "Peripherals\n",
      "About Us\n",
      "Forums\n",
      "Trending\n",
      "Black Friday SSD Deals Live\n",
      "15 under-$50 gadgets\n",
      "Black Friday Monitor Deals Live\n",
      "Best Black Friday Tech Deals\n",
      "Core Ultra 9 285K\n",
      "PC Components\n",
      "CPUs\n",
      "Intel's fastest gaming chip hits all-time low for Cyber Monday — Core i9-14900K drops to $413\n",
      "Deals\n",
      "By\n",
      "Roshan Ashraf Shaikh\n",
      "published\n",
      "30 November 2024\n",
      "Intel's flagship Raptor Lake Refresh CPU drops to a very attractive price.\n",
      "Comments\n",
      "(1)\n",
      "When you purchase through links on our site, we may earn an affiliate commission.\n",
      "Here’s how it works\n",
      ".\n",
      "(Image credit: Intel)\n",
      "If you want a deal on Intel's 14th Generation Raptor Lake Refresh CPU, Amazon sells the Core i9-14900K for\n",
      "$413.39\n",
      ". Like all deals and coupons, it is dependent on stock while it lasts or the time before the deal expires.\n",
      "The\n",
      "Core i9-14900K\n",
      "is a 24-core, 32-thread CPU with eight P-cores and 16 E-cores with a P-Core base that can clock up to 6 GHz and E-Cores clocking up to 4.4 GHz. These Raptor Lake Refresh chips are on the same LGA1700 socket, so they're drop-in compatible with LGA1700 motherboards if you're upgrading from a slower CPU.\n",
      "Intel Core i9-14900K\n",
      ":\n",
      "now $436 at Amazon\n",
      "(was $619)\n",
      "You can now grab Intel's flagship Raptor Lake refresh for a slightly lower price, as Amazon has included a $25 discount, making it somewhat attainable.\n",
      "View Deal\n",
      "The main advantage the Core i9-14900K has over the KF variant is the on-chip graphics. Though many wouldn't need them, it is best to have on-chip graphics for diagnostic purposes if you don't have a spare discrete graphics card, just in case. But if you still prefer the\n",
      "Core i9-14900KF\n",
      ", you are getting a $40 coupon, which will shave off the $436 price tag to $396.\n",
      "Image\n",
      "1\n",
      "of\n",
      "3\n",
      "(Image credit: Tom's Hardware)\n",
      "(Image credit: Tom's Hardware)\n",
      "(Image credit: Tom's Hardware)\n",
      "You can see how this chip ranks with our in-depth testing in our\n",
      "CPU benchmarks\n",
      "hierarchy, and excerpt of which you can see above. This strong performance is also why this chip ranks on our list of the\n",
      "Best CPUs for Gaming\n",
      ".\n",
      "We did mention a\n",
      "good deal\n",
      "on the Core i9-13900K for a cent under $400. However, the Core i9-14900K pricing is not so far away, thanks to the discount coupon. Raptor Lake Refresh has previously gained a bad reputation due to a\n",
      "voltage issue\n",
      "affecting the CPU's instability. However, Intel has since launched\n",
      "microcode updates\n",
      "to remedy the problem, so make sure your motherboard is running the latest firmware before plugging it into the Core i9-14900K.\n",
      "We are working hard to find the best deals for you this Black Friday. If you're looking for other products, check out our\n",
      "Black Friday Computer Hardware Deals Live blog\n",
      "for a range of products, or dive deeper into our specialized\n",
      "SSD and Storage Deals Live blog\n",
      ",\n",
      "Monitor Deals Live\n",
      ",\n",
      "Graphics Card Deals\n",
      ", or\n",
      "CPU Deals\n",
      "pages.\n",
      "Stay On the Cutting Edge: Get the Tom's Hardware Newsletter\n",
      "Get Tom's Hardware's best news and in-depth reviews, straight to your inbox.\n",
      "Contact me with news and offers from other Future brands\n",
      "Receive email from us on behalf of our trusted partners or sponsors\n",
      "By submitting your information you agree to the\n",
      "Terms & Conditions\n",
      "and\n",
      "Privacy Policy\n",
      "and are aged 16 or over.\n",
      "TOPICS\n",
      "Black Friday\n",
      "See all comments (1)\n",
      "Roshan Ashraf Shaikh\n",
      "Social Links Navigation\n",
      "Contributing Writer\n",
      "Roshan Ashraf Shaikh has been in the Indian PC hardware community since the early 2000s and has been building PCs, contributing to many Indian tech forums, & blogs. He operated Hardware BBQ for 11 years and wrote news for eTeknix & TweakTown before joining Tom's Hardware team. Besides tech, he is interested in fighting games, movies, anime, and mechanical watches.\n",
      "More about cpus\n",
      "Intel Core 7 240H shows similar performance to Core i7-13620H on Geekbench — Core 7 240H could be a rewarmed Core i7-13620H\n",
      "AMD Ryzen 5 7600X now 37% off for Black Friday — great performer for just $187\n",
      "Latest\n",
      "Intel Arc B570 Battlemage GPU listed at overseas wholesaler ahead of launch — B570 packs 10GB of GDDR6 memory and a 2.6 GHz maximum boost clock\n",
      "See more latest\n",
      "►\n",
      "1 Comment\n",
      "Comment from the forums\n",
      "YSCCC\n",
      "As a 14900k user... are you sure it at this point of time it is still attractive?????\n",
      "Reply\n",
      "View All 1 Comment\n",
      "Most Popular\n",
      "The Best Black Friday GPU deals for 1080p, 1440p, and 4K gaming — prices start at $229\n",
      "The best 2TB SSDs deals available this Black Friday start at $92\n",
      "Black Friday 4TB SSD deals start at $0.05 per GB, include speedy PCIe 4 and PCIe 5 drives\n",
      "Dell’s incredible 32-inch 2K curved gaming monitor is selling for just $199\n",
      "Prusa Black Friday deals include some of our favorite 3D printers\n",
      "Get a Copilot+ 2-in-1 at an all-time low price — Microsoft Surface Pro 2-in-1 on sale for $999\n",
      "The Dell Alienware m18 R2 with the RTX 4090 and i9-14900HX can be yours for $2,999 — save $1,000 in Black Friday deal\n",
      "Nvidia RTX 4060 drops prices to all-time low — Gigabyte Gaming OC RTX 4060 8G gets 11% Black Friday discount on Amazon\n",
      "A smart Black Friday deal on this Fnirsi smart soldering iron\n",
      "My favorite laptop, the ThinkPad X1 Carbon, now starts at $999 ($1600 for 64GB)\n",
      "Nvidia RTX 3060 12GB hits all-time low on Amazon: Gigabyte Gaming OC RTX 3060 12GB is a Black Friday special at 18% off\n",
      "Tom's Hardware is part of Future US Inc, an international media group and leading digital publisher.\n",
      "Visit our corporate site\n",
      ".\n",
      "Terms and conditions\n",
      "Contact Future's experts\n",
      "Privacy policy\n",
      "Cookies policy\n",
      "Accessibility Statement\n",
      "Advertise with us\n",
      "About us\n",
      "Coupons\n",
      "Careers\n",
      "©\n",
      "Future US, Inc. Full 7th Floor, 130 West 42nd Street,\n",
      "New York,\n",
      "NY 10036.\n"
     ]
    }
   ],
   "source": [
    "print(user_prompt_for(ed))"
   ]
  },
  {
   "cell_type": "markdown",
   "metadata": {},
   "source": [
    "Messages\n",
    "\n",
    "The API from OpenAI expects to receive messages in a particular structure. Many of the other APIs share this structure:\n",
    "\n",
    "[\n",
    "    {\"role\": \"system\", \"content\": \"system message goes here\"},\n",
    "    \n",
    "    {\"role\": \"user\", \"content\": \"user message goes here\"}\n",
    "]"
   ]
  },
  {
   "cell_type": "code",
   "execution_count": 12,
   "metadata": {},
   "outputs": [],
   "source": [
    "def messages_for(website):\n",
    "    return [\n",
    "        {\"role\": \"system\", \"content\": system_prompt},\n",
    "        {\"role\": \"user\", \"content\": user_prompt_for(website)}\n",
    "    ]"
   ]
  },
  {
   "cell_type": "code",
   "execution_count": 13,
   "metadata": {},
   "outputs": [
    {
     "data": {
      "text/plain": [
       "[{'role': 'system',\n",
       "  'content': 'You are an assistant that analyzes the contents of a website and provides a short summary, ignoring text that might be navigation related. Respond in markdown.'},\n",
       " {'role': 'user',\n",
       "  'content': \"You are looking at a website titled Intel's fastest gaming chip hits all-time low for Cyber Monday — Core i9-14900K drops to $413 | Tom's Hardware\\nThe contents of this website is as follows; please provide a short summary of this website in markdown. If it includes news or announcements, then summarize these too.\\n\\nSkip to main content\\nOpen menu\\nClose menu\\nTom's Hardware\\nTom's Hardware\\nSearch\\nSearch Tom's Hardware\\nRSS\\nUS Edition\\nUK\\nUS\\nAustralia\\nCanada\\nBest Picks\\nRaspberry Pi\\nCPUs\\nGPUs\\n3D Printers\\nNews\\nCoupons\\nMore\\nNewsletter\\nReviews\\nPC Components\\nMotherboards\\nSSDs\\nPC Building\\nMonitors\\nLaptops\\nGaming\\nCooling\\nRAM\\nPower Supplies\\nCases\\n3D Printers\\nDesktops\\nOverclocking\\nPeripherals\\nAbout Us\\nForums\\nTrending\\nBlack Friday SSD Deals Live\\n15 under-$50 gadgets\\nBlack Friday Monitor Deals Live\\nBest Black Friday Tech Deals\\nCore Ultra 9 285K\\nPC Components\\nCPUs\\nIntel's fastest gaming chip hits all-time low for Cyber Monday — Core i9-14900K drops to $413\\nDeals\\nBy\\nRoshan Ashraf Shaikh\\npublished\\n30 November 2024\\nIntel's flagship Raptor Lake Refresh CPU drops to a very attractive price.\\nComments\\n(1)\\nWhen you purchase through links on our site, we may earn an affiliate commission.\\nHere’s how it works\\n.\\n(Image credit: Intel)\\nIf you want a deal on Intel's 14th Generation Raptor Lake Refresh CPU, Amazon sells the Core i9-14900K for\\n$413.39\\n. Like all deals and coupons, it is dependent on stock while it lasts or the time before the deal expires.\\nThe\\nCore i9-14900K\\nis a 24-core, 32-thread CPU with eight P-cores and 16 E-cores with a P-Core base that can clock up to 6 GHz and E-Cores clocking up to 4.4 GHz. These Raptor Lake Refresh chips are on the same LGA1700 socket, so they're drop-in compatible with LGA1700 motherboards if you're upgrading from a slower CPU.\\nIntel Core i9-14900K\\n:\\nnow $436 at Amazon\\n(was $619)\\nYou can now grab Intel's flagship Raptor Lake refresh for a slightly lower price, as Amazon has included a $25 discount, making it somewhat attainable.\\nView Deal\\nThe main advantage the Core i9-14900K has over the KF variant is the on-chip graphics. Though many wouldn't need them, it is best to have on-chip graphics for diagnostic purposes if you don't have a spare discrete graphics card, just in case. But if you still prefer the\\nCore i9-14900KF\\n, you are getting a $40 coupon, which will shave off the $436 price tag to $396.\\nImage\\n1\\nof\\n3\\n(Image credit: Tom's Hardware)\\n(Image credit: Tom's Hardware)\\n(Image credit: Tom's Hardware)\\nYou can see how this chip ranks with our in-depth testing in our\\nCPU benchmarks\\nhierarchy, and excerpt of which you can see above. This strong performance is also why this chip ranks on our list of the\\nBest CPUs for Gaming\\n.\\nWe did mention a\\ngood deal\\non the Core i9-13900K for a cent under $400. However, the Core i9-14900K pricing is not so far away, thanks to the discount coupon. Raptor Lake Refresh has previously gained a bad reputation due to a\\nvoltage issue\\naffecting the CPU's instability. However, Intel has since launched\\nmicrocode updates\\nto remedy the problem, so make sure your motherboard is running the latest firmware before plugging it into the Core i9-14900K.\\nWe are working hard to find the best deals for you this Black Friday. If you're looking for other products, check out our\\nBlack Friday Computer Hardware Deals Live blog\\nfor a range of products, or dive deeper into our specialized\\nSSD and Storage Deals Live blog\\n,\\nMonitor Deals Live\\n,\\nGraphics Card Deals\\n, or\\nCPU Deals\\npages.\\nStay On the Cutting Edge: Get the Tom's Hardware Newsletter\\nGet Tom's Hardware's best news and in-depth reviews, straight to your inbox.\\nContact me with news and offers from other Future brands\\nReceive email from us on behalf of our trusted partners or sponsors\\nBy submitting your information you agree to the\\nTerms & Conditions\\nand\\nPrivacy Policy\\nand are aged 16 or over.\\nTOPICS\\nBlack Friday\\nSee all comments (1)\\nRoshan Ashraf Shaikh\\nSocial Links Navigation\\nContributing Writer\\nRoshan Ashraf Shaikh has been in the Indian PC hardware community since the early 2000s and has been building PCs, contributing to many Indian tech forums, & blogs. He operated Hardware BBQ for 11 years and wrote news for eTeknix & TweakTown before joining Tom's Hardware team. Besides tech, he is interested in fighting games, movies, anime, and mechanical watches.\\nMore about cpus\\nIntel Core 7 240H shows similar performance to Core i7-13620H on Geekbench — Core 7 240H could be a rewarmed Core i7-13620H\\nAMD Ryzen 5 7600X now 37% off for Black Friday — great performer for just $187\\nLatest\\nIntel Arc B570 Battlemage GPU listed at overseas wholesaler ahead of launch — B570 packs 10GB of GDDR6 memory and a 2.6 GHz maximum boost clock\\nSee more latest\\n►\\n1 Comment\\nComment from the forums\\nYSCCC\\nAs a 14900k user... are you sure it at this point of time it is still attractive?????\\nReply\\nView All 1 Comment\\nMost Popular\\nThe Best Black Friday GPU deals for 1080p, 1440p, and 4K gaming — prices start at $229\\nThe best 2TB SSDs deals available this Black Friday start at $92\\nBlack Friday 4TB SSD deals start at $0.05 per GB, include speedy PCIe 4 and PCIe 5 drives\\nDell’s incredible 32-inch 2K curved gaming monitor is selling for just $199\\nPrusa Black Friday deals include some of our favorite 3D printers\\nGet a Copilot+ 2-in-1 at an all-time low price — Microsoft Surface Pro 2-in-1 on sale for $999\\nThe Dell Alienware m18 R2 with the RTX 4090 and i9-14900HX can be yours for $2,999 — save $1,000 in Black Friday deal\\nNvidia RTX 4060 drops prices to all-time low — Gigabyte Gaming OC RTX 4060 8G gets 11% Black Friday discount on Amazon\\nA smart Black Friday deal on this Fnirsi smart soldering iron\\nMy favorite laptop, the ThinkPad X1 Carbon, now starts at $999 ($1600 for 64GB)\\nNvidia RTX 3060 12GB hits all-time low on Amazon: Gigabyte Gaming OC RTX 3060 12GB is a Black Friday special at 18% off\\nTom's Hardware is part of Future US Inc, an international media group and leading digital publisher.\\nVisit our corporate site\\n.\\nTerms and conditions\\nContact Future's experts\\nPrivacy policy\\nCookies policy\\nAccessibility Statement\\nAdvertise with us\\nAbout us\\nCoupons\\nCareers\\n©\\nFuture US, Inc. Full 7th Floor, 130 West 42nd Street,\\nNew York,\\nNY 10036.\"}]"
      ]
     },
     "execution_count": 13,
     "metadata": {},
     "output_type": "execute_result"
    }
   ],
   "source": [
    "messages_for(ed)"
   ]
  },
  {
   "cell_type": "code",
   "execution_count": 15,
   "metadata": {},
   "outputs": [],
   "source": [
    "def summarize(url):\n",
    "    website = Website(url)\n",
    "    response = openai.chat.completions.create(\n",
    "        model = \"gpt-4o-mini\",\n",
    "        messages = messages_for(website)\n",
    "    )\n",
    "    return response.choices[0].message.content"
   ]
  },
  {
   "cell_type": "code",
   "execution_count": 16,
   "metadata": {},
   "outputs": [
    {
     "data": {
      "text/plain": [
       "\"# Summary of Intel's Fastest Gaming Chip Cyber Monday Deal\\n\\nThe article from Tom's Hardware discusses the **Intel Core i9-14900K**, which has dropped to an all-time low price of **$413.39** on Amazon as part of Cyber Monday deals. The Core i9-14900K is a high-performance CPU featuring 24 cores and 32 threads, capable of reaching clock speeds of up to **6 GHz**. It is compatible with existing LGA1700 motherboards, making it a viable upgrade option.\\n\\n### Key Details:\\n- **Features**: 24-core (8 P-cores, 16 E-cores), supports on-chip graphics.\\n- **Pricing**: Regularly priced at **$619**, now discounted to **$413.39**.\\n- **Competitor Product**: The Core i9-14900KF variant is available with a $40 coupon, reducing its price to **$396**.\\n- **Performance**: The chip is recognized for gaming, ranking among the best CPUs in its category.\\n- **Critical Updates**: Intel has released microcode updates to resolve previous voltage issues affecting stability.\\n\\n### Conclusion:\\nThe article highlights the competitive pricing of the Core i9-14900K during the Black Friday sales, recommending it for gamers and PC builders looking for high performance at a reduced cost.\""
      ]
     },
     "execution_count": 16,
     "metadata": {},
     "output_type": "execute_result"
    }
   ],
   "source": [
    "summarize(\"https://www.tomshardware.com/pc-components/cpus/intels-fastest-gaming-chip-hits-all-time-low-for-black-friday-core-i9-14900k-drops-to-usd413\")"
   ]
  },
  {
   "cell_type": "code",
   "execution_count": 17,
   "metadata": {},
   "outputs": [],
   "source": [
    "def display_summary(url):\n",
    "    summary = summarize(url)\n",
    "    display(Markdown(summary))"
   ]
  },
  {
   "cell_type": "code",
   "execution_count": 18,
   "metadata": {},
   "outputs": [
    {
     "data": {
      "text/markdown": [
       "# Summary of Intel’s Fastest Gaming Chip Sale on Tom's Hardware\n",
       "\n",
       "Tom's Hardware reports that the Intel Core i9-14900K, part of Intel's 14th Generation Raptor Lake Refresh lineup, has reached a new low price of **$413.39** during the Cyber Monday sales on Amazon. This CPU features **24 cores and 32 threads** with impressive clock speeds of up to **6 GHz** for P-cores and **4.4 GHz** for E-cores. The sale is part of ongoing Black Friday deals and is particularly attractive due to a **$25 discount**.\n",
       "\n",
       "The Core i9-14900K is appreciated for its on-chip graphics, providing added utility for users without a separate graphics card. There is also a mention of its variant, the **Core i9-14900KF**, which offers a **$40 coupon** discount, bringing its price down to **$396**.\n",
       "\n",
       "### Key Points:\n",
       "- **Price Drop**: Intel Core i9-14900K now at $413.39 (down from $619).\n",
       "- **Specifications**: 24-core, 32-thread with high clock speeds; compatible with LGA1700 motherboards.\n",
       "- **Variants**: Core i9-14900KF available for $396 with a coupon.\n",
       "- **Issues Addressed**: Previously reported voltage issues have been remedied with microcode updates from Intel.\n",
       "\n",
       "This article highlights competitive pricing amidst the Black Friday weekend and focuses on finding good deals in the PC hardware market."
      ],
      "text/plain": [
       "<IPython.core.display.Markdown object>"
      ]
     },
     "metadata": {},
     "output_type": "display_data"
    }
   ],
   "source": [
    "display_summary(\"https://www.tomshardware.com/pc-components/cpus/intels-fastest-gaming-chip-hits-all-time-low-for-black-friday-core-i9-14900k-drops-to-usd413\")"
   ]
  },
  {
   "cell_type": "code",
   "execution_count": 19,
   "metadata": {},
   "outputs": [
    {
     "data": {
      "text/markdown": [
       "# CNN Overview\n",
       "\n",
       "**CNN** is a leading news platform that provides breaking news, latest updates, and a variety of video content across multiple topics, including but not limited to:\n",
       "\n",
       "- **US News**\n",
       "- **World Events**\n",
       "- **Politics**\n",
       "- **Business**\n",
       "- **Health**\n",
       "- **Entertainment**\n",
       "- **Sports**\n",
       "\n",
       "The site features segments on ongoing global conflicts such as the Ukraine-Russia War and the Israel-Hamas War. Current headlines include:\n",
       "\n",
       "- Syrian rebels have taken control of most of Aleppo, challenging the regime of Bashar al-Assad amidst significant international attention.\n",
       "- A major medical malpractice case resulted in a $412 million payout, marking one of the largest in US history.\n",
       "- In sports, a brawl occurred during the Michigan-Ohio State football game, which has garnered considerable media coverage.\n",
       "\n",
       "Additionally, CNN covers trending cultural events, technological developments, and offers various podcasts and videos for diverse audience interests. The site emphasizes user engagement and offers a feedback mechanism for ad relevance and technical issues."
      ],
      "text/plain": [
       "<IPython.core.display.Markdown object>"
      ]
     },
     "metadata": {},
     "output_type": "display_data"
    }
   ],
   "source": [
    "display_summary(\"https://cnn.com\")"
   ]
  },
  {
   "cell_type": "code",
   "execution_count": 20,
   "metadata": {},
   "outputs": [
    {
     "data": {
      "text/markdown": [
       "# Summary of Anthropic Website\n",
       "\n",
       "Anthropic is an AI safety and research company focused on developing reliable and beneficial AI systems. The website highlights their flagship AI model, **Claude 3.5 Sonnet**, which is described as their most intelligent AI to date, now available for use. \n",
       "\n",
       "## Key Offerings:\n",
       "- **Claude AI Models**: Including the latest **Claude 3.5 Sonnet** and **Claude 3.5 Haiku**.\n",
       "- **API Services**: Designed for businesses to incorporate Claude into their operations for increased efficiency and revenue generation.\n",
       "- **Enterprise Solutions**: Tailored services for enterprise clients.\n",
       "\n",
       "## Recent Announcements:\n",
       "- **October 22, 2024**: Introduced updated models: Claude 3.5 Sonnet and Claude 3.5 Haiku.\n",
       "- **September 4, 2024**: Launched Claude for Enterprise.\n",
       "- **Research Highlights**: Previous releases include important discussions on AI safety and research developments.\n",
       "\n",
       "The company emphasizes its interdisciplinary team, which combines expertise in machine learning, physics, policy, and product design to advance AI technology focused on safety."
      ],
      "text/plain": [
       "<IPython.core.display.Markdown object>"
      ]
     },
     "metadata": {},
     "output_type": "display_data"
    }
   ],
   "source": [
    "display_summary(\"https://anthropic.com\")"
   ]
  }
 ],
 "metadata": {
  "kernelspec": {
   "display_name": "llms",
   "language": "python",
   "name": "python3"
  },
  "language_info": {
   "codemirror_mode": {
    "name": "ipython",
    "version": 3
   },
   "file_extension": ".py",
   "mimetype": "text/x-python",
   "name": "python",
   "nbconvert_exporter": "python",
   "pygments_lexer": "ipython3",
   "version": "3.11.10"
  }
 },
 "nbformat": 4,
 "nbformat_minor": 2
}
